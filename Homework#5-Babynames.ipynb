{
 "cells": [
  {
   "cell_type": "code",
   "execution_count": null,
   "metadata": {},
   "outputs": [],
   "source": [
    "## load library, dplyr"
   ]
  },
  {
   "cell_type": "code",
   "execution_count": null,
   "metadata": {},
   "outputs": [],
   "source": [
    "library(dplyr)"
   ]
  },
  {
   "cell_type": "code",
   "execution_count": null,
   "metadata": {},
   "outputs": [],
   "source": [
    "## Read babynames.rds"
   ]
  },
  {
   "cell_type": "code",
   "execution_count": null,
   "metadata": {},
   "outputs": [],
   "source": [
    "babynames <- readRDS('babynames.rds')"
   ]
  },
  {
   "cell_type": "raw",
   "metadata": {},
   "source": [
    "1. Filter for only the year 1990.\n",
    "Sort the table in descending order of the number of babies born."
   ]
  },
  {
   "cell_type": "code",
   "execution_count": null,
   "metadata": {},
   "outputs": [],
   "source": [
    "babynames %>%\n",
    "  # Filter for the year 1990\n",
    "  \n",
    "  # Sort the number column in descending order \n",
    "  "
   ]
  },
  {
   "cell_type": "raw",
   "metadata": {},
   "source": [
    "2. Use group_by and top_n to find the most common name for US babies in each year."
   ]
  },
  {
   "cell_type": "code",
   "execution_count": null,
   "metadata": {},
   "outputs": [],
   "source": [
    "# Find the most common name in each year\n",
    "babynames %>%\n",
    "  \n",
    "  "
   ]
  },
  {
   "cell_type": "raw",
   "metadata": {},
   "source": [
    "3. Filter for only the names Steven, Thomas, and Matthew, and assign it to an object called selected_names"
   ]
  },
  {
   "cell_type": "code",
   "execution_count": null,
   "metadata": {},
   "outputs": [],
   "source": [
    "# Hint: The %in% operator can be used within filter() by including c() and a vector of values."
   ]
  },
  {
   "cell_type": "code",
   "execution_count": null,
   "metadata": {},
   "outputs": [],
   "source": [
    "# Filter for the names Steven, Thomas, and Matthew \n",
    "selected_names <- babynames %>%\n",
    "  "
   ]
  },
  {
   "cell_type": "raw",
   "metadata": {},
   "source": [
    "4. Visualize those three names as a line plot over time, with each name represented by a different color."
   ]
  },
  {
   "cell_type": "code",
   "execution_count": null,
   "metadata": {},
   "outputs": [],
   "source": [
    "# Plot the names using a different color for each name\n",
    "\n"
   ]
  },
  {
   "cell_type": "raw",
   "metadata": {},
   "source": [
    "5. First, calculate the total number of people born in that year in this dataset as year_total.\n",
    "Next, use year_total to calculate the fraction of people born in each year that have each name.\n",
    "Pay attention to use of ungroup()"
   ]
  },
  {
   "cell_type": "code",
   "execution_count": null,
   "metadata": {},
   "outputs": [],
   "source": [
    "# Calculate the fraction of people born each year with the same name\n",
    "babynames %>%\n",
    "\n",
    "\n"
   ]
  },
  {
   "cell_type": "raw",
   "metadata": {},
   "source": [
    "6. Now use your newly calculated fraction column, in combination with top_n(),   \n",
    "to identify the year each name is most common\n"
   ]
  },
  {
   "cell_type": "code",
   "execution_count": null,
   "metadata": {},
   "outputs": [],
   "source": [
    "# Calculate the fraction of people born each year with the same name\n",
    "# Repeate the above\n",
    "babynames %>%\n",
    "\n",
    "\n",
    "\n",
    "# Find the year each name is most common\n",
    "\n"
   ]
  },
  {
   "cell_type": "raw",
   "metadata": {},
   "source": [
    "7. Use a grouped mutate to add two columns:\n",
    "- name_total, with the total number of babies born with that name in the entire dataset.\n",
    "- name_max, with the highest number of babies born in any year.\n",
    "- Add another step to ungroup the table.\n",
    "- Add a column called fraction_max, with the number in the year divided by the maximum for that name."
   ]
  },
  {
   "cell_type": "code",
   "execution_count": null,
   "metadata": {},
   "outputs": [],
   "source": [
    "babynames %>%\n",
    "\n",
    "\n",
    "\n",
    "  # Ungroup the table \n",
    "  \n",
    "  # Add the fraction_max column containing the number by the name maximum \n",
    "  "
   ]
  },
  {
   "cell_type": "raw",
   "metadata": {},
   "source": [
    "names_normalized <- babynames %>%\n",
    "                     group_by(name) %>%\n",
    "                     mutate(name_total = sum(number),\n",
    "                            name_max = max(number)) %>%\n",
    "                     ungroup() %>%\n",
    "                     mutate(fraction_max = number / name_max)"
   ]
  },
  {
   "cell_type": "raw",
   "metadata": {},
   "source": [
    "8. Filter the names_normalized table to limit it to the three names Steven, Thomas, and Matthew.\n",
    "Visualize fraction_max for those names over time."
   ]
  },
  {
   "cell_type": "code",
   "execution_count": null,
   "metadata": {},
   "outputs": [],
   "source": [
    "# Filter for the names Steven, Thomas, and Matthew\n",
    "names_filtered <- names_normalized %>%\n",
    "  \n",
    "\n",
    "# Visualize these names over time\n",
    "\n"
   ]
  },
  {
   "cell_type": "raw",
   "metadata": {},
   "source": [
    "9. Arrange the data in ascending order of name and then year.  \n",
    "Group by name so that your mutate works within each name.  \n",
    "Add a column ratio containing the ratio (not difference) between each year.  "
   ]
  },
  {
   "cell_type": "code",
   "execution_count": null,
   "metadata": {},
   "outputs": [],
   "source": [
    "babynames_fraction %>%\n",
    "  # Arrange the data in order of name, then year \n",
    "  \n",
    "  # Group the data by name\n",
    "  \n",
    "  # Add a ratio column that contains the ratio between each year \n",
    "  "
   ]
  },
  {
   "cell_type": "code",
   "execution_count": null,
   "metadata": {},
   "outputs": [],
   "source": [
    "babynames_ratios_filtered <- babynames_fraction %>%\n",
    "                     arrange(name, year) %>%\n",
    "                     group_by(name) %>%\n",
    "                     mutate(ratio = fraction / lag(fraction)) %>%\n",
    "                     filter(fraction >= 0.00001)"
   ]
  },
  {
   "cell_type": "raw",
   "metadata": {},
   "source": [
    "10. From each name in the data, keep the observation (the year) with the largest ratio; note the data is already grouped by name.\n",
    "Sort the ratio column in descending order.\n",
    "Filter the babynames_ratios_filtered data further by filtering the fraction column to only display results greater than or equal to 0.001."
   ]
  },
  {
   "cell_type": "code",
   "execution_count": null,
   "metadata": {},
   "outputs": [],
   "source": [
    "## Hint: use lag() to calculate the difference, e.g., fraction - lag(fraction)\n",
    "## The ratio column will also be calculated using lag(fraction).\n",
    "## Recall, the difference in the frequency of a baby name between consecutive years was calculated \n",
    "## as fraction - lag(fraction).\n",
    "## However, remember that in this exercise you are calculating the ratio, so another operator will be required."
   ]
  },
  {
   "cell_type": "code",
   "execution_count": null,
   "metadata": {},
   "outputs": [],
   "source": [
    "babynames_ratios_filtered %>%\n",
    "  # Extract the largest ratio from each name \n",
    "  \n",
    "  # Sort the ratio column in descending order \n",
    "  \n",
    "  # Filter for fractions greater than or equal to 0.001\n",
    "  "
   ]
  },
  {
   "cell_type": "code",
   "execution_count": null,
   "metadata": {},
   "outputs": [],
   "source": []
  }
 ],
 "metadata": {
  "kernelspec": {
   "display_name": "R",
   "language": "R",
   "name": "ir"
  },
  "language_info": {
   "codemirror_mode": "r",
   "file_extension": ".r",
   "mimetype": "text/x-r-source",
   "name": "R",
   "pygments_lexer": "r",
   "version": "3.6.1"
  }
 },
 "nbformat": 4,
 "nbformat_minor": 4
}
