{
 "cells": [
  {
   "cell_type": "markdown",
   "metadata": {
    "colab_type": "text",
    "id": "MI7M6hsLJlV3"
   },
   "source": [
    "## Loading Olympic edition DataFrame\n",
    "\n",
    "\n",
    "In this chapter, you'll be using The Guardian's Olympic medal dataset.\n",
    "\n",
    "Your first task here is to prepare a DataFrame editions from a tab-separated values (TSV) file.\n",
    "\n",
    "Initially, editions has 26 rows (one for each Olympic edition, i.e., a year in which the Olympics was held) and 7 columns: 'Edition', 'Bronze', 'Gold', 'Silver', 'Grand Total', 'City', and 'Country'.\n",
    "\n",
    "For the analysis that follows, you won't need the overall medal counts, so you want to keep only the useful columns from editions: 'Edition', 'Grand Total', City, and Country.\n",
    "\n",
    "--------------------------------------------------------------------\n",
    "- Read file_path into a DataFrame called editions. The identifier file_path has been pre-defined with the filename \n",
    "\n",
    "   -- 'Summer Olympic medallists 1896 to 2008 - EDITIONS.tsv'. \n",
    "\n",
    "   -- You'll have to use the option sep='\\t' because the file uses tabs to delimit fields (pd.read_csv() expects commas by default).\n",
    "\n",
    "\n",
    "- Select only the columns 'Edition', 'Grand Total', 'City', and 'Country' from editions.\n",
    "- Print the final DataFrame editions in entirety (there are only 26 rows).\n",
    "-----------------------------------------------------------------------"
   ]
  },
  {
   "cell_type": "code",
   "execution_count": null,
   "metadata": {
    "colab": {},
    "colab_type": "code",
    "id": "WnoFkfVFJjvb"
   },
   "outputs": [],
   "source": [
    "#Import pandas\n",
    "import pandas as pd\n",
    "\n",
    "# Create file path: file_path\n",
    "file_path = 'Summer Olympic medallists 1896 to 2008 - EDITIONS.tsv'\n",
    "\n",
    "# Load DataFrame from file_path: editions\n",
    "editions = ____\n",
    "\n",
    "# Extract the relevant columns: editions\n",
    "editions = ____\n",
    "\n",
    "# Print editions DataFrame\n",
    "print(editions)"
   ]
  },
  {
   "cell_type": "markdown",
   "metadata": {
    "colab_type": "text",
    "id": "-9J5CV-sJxgC"
   },
   "source": [
    "## Loading IOC codes DataFrame\n",
    "\n",
    "Your task here is to prepare a DataFrame ioc_codes from a comma-separated values (CSV) file.\n",
    "\n",
    "Initially, ioc_codes has 200 rows (one for each country) and 3 columns: 'Country', 'NOC', & 'ISO code'.\n",
    "\n",
    "For the analysis that follows, you want to keep only the useful columns from ioc_codes: 'Country' and 'NOC' (the column 'NOC' contains three-letter codes representing each country).\n",
    "\n",
    "-------------------------------------------------------\n",
    "- Read file_path into a DataFrame called ioc_codes. The identifier file_path has been pre-defined with the filename   \n",
    "   'Summer Olympic medallists 1896 to 2008 - IOC COUNTRY CODES.csv'.\n",
    "\n",
    "\n",
    "- Select only the columns 'Country' and 'NOC' from ioc_codes.\n",
    "\n",
    "- Print the leading 5 and trailing 5 rows of the DataFrame ioc_codes (there are 200 rows in total).\n",
    "--------------------------------------------------------"
   ]
  },
  {
   "cell_type": "code",
   "execution_count": null,
   "metadata": {
    "colab": {},
    "colab_type": "code",
    "id": "gY11D1VpJvtN"
   },
   "outputs": [],
   "source": [
    "# Create the file path: file_path\n",
    "file_path = 'Summer Olympic medallists 1896 to 2008 - IOC COUNTRY CODES.csv'\n",
    "\n",
    "# Load DataFrame from file_path: ioc_codes\n",
    "ioc_codes = ____\n",
    "\n",
    "# Extract the relevant columns: ioc_codes\n",
    "ioc_codes = ____\n",
    "\n",
    "# Print first and last 5 rows of ioc_codes\n",
    "\n"
   ]
  },
  {
   "cell_type": "markdown",
   "metadata": {},
   "source": [
    "-  Generate csv files named with summer_xxxx.csv from 'Summer Olympic medalists 1896 to 2008 - ALL MEDALISTS.tsv'\n",
    "- xxxx should be year (e.g., 1896)\n",
    "- The number of csv files to be generated to be equal to the number of different years from 1896 to 2008\n",
    "- Drop the \"Edition\" and \"City\" columns from the dataframe\n",
    "- Save the dataframe as summer_xxxx.csv\n",
    "\n",
    "\n",
    "\n"
   ]
  },
  {
   "cell_type": "code",
   "execution_count": 1,
   "metadata": {},
   "outputs": [],
   "source": [
    "## Generate csv files (summer_xxxx.csv)\n",
    " \n",
    "\n",
    "\n",
    "\n",
    "\n"
   ]
  },
  {
   "cell_type": "markdown",
   "metadata": {
    "colab_type": "text",
    "id": "xmv7qx3GJ3IP"
   },
   "source": [
    "## Building medals DataFrame\n",
    "\n",
    "Here, you'll start with the DataFrame editions from the previous exercise.\n",
    "\n",
    "You have a sequence of files summer_1896.csv, summer_1900.csv, …, summer_2008.csv, one for each Olympic edition (year).\n",
    "\n",
    "You will build up a dictionary medals_dict with the Olympic editions (years) as keys and DataFrames as values.\n",
    "\n",
    "The dictionary is built up inside a loop over the year of each Olympic edition (from the Index of editions).\n",
    "\n",
    "Once the dictionary of DataFrames is built up, you will combine the DataFrames using pd.concat().\n",
    "\n",
    "------------------------------------------------------\n",
    "Within the for loop:\n",
    "- Create the file path. This has been done for you.\n",
    "- Read file_path into a DataFrame. Assign the result to the year key of medals_dict.\n",
    "- Select only the columns 'Athlete', 'NOC', and 'Medal' from medals_dict[year].\n",
    "- Create a new column called 'Edition' in the DataFrame medals_dict[year] whose entries are all year.\n",
    "\n",
    "\n",
    "Concatenate the dictionary of DataFrames medals_dict into a DataFame called medals. Specify the keyword argument ignore_index=True to prevent repeated integer indices.\n",
    "\n",
    "Print the first and last 5 rows of medals.\n",
    "\n",
    "------------------------------------"
   ]
  },
  {
   "cell_type": "code",
   "execution_count": null,
   "metadata": {
    "colab": {},
    "colab_type": "code",
    "id": "XHpZFZwQJ00m"
   },
   "outputs": [],
   "source": [
    "# Create empty dictionary: medals_dict\n",
    "medals_dict = {}\n",
    "\n",
    "for year in editions['Edition']:\n",
    "\n",
    "    # Create the file path: file_path for each of summer_xxxx.csv\n",
    "    file_path = \n",
    "    \n",
    "    # Load file_path into a DataFrame: medals_dict[year]\n",
    "    medals_dict[year] = ____\n",
    "    \n",
    "    # Extract relevant columns: medals_dict[year]\n",
    "    medals_dict[year] = ____\n",
    "    \n",
    "    # Assign year to column 'Edition' of medals_dict\n",
    "    medals_dict[year]['Edition'] = ____\n",
    "    \n",
    "# Concatenate medals_dict: medals\n",
    "medals = ____\n",
    "\n",
    "# Print first and last 5 rows of medals\n",
    "\n"
   ]
  },
  {
   "cell_type": "markdown",
   "metadata": {
    "colab_type": "text",
    "id": "RpDKOLfgKAa9"
   },
   "source": [
    "## Counting medals by country/edition in a pivot table\n",
    "\n",
    "Here, you'll start with the concatenated DataFrame medals from the previous exercise.\n",
    "\n",
    "You can construct a pivot table to see the number of medals each country won in each year. The result is a new DataFrame with the Olympic edition on the Index and with 138 country NOC codes as columns.\n",
    "\n",
    "---------------------------------------------------------\n",
    "- Construct a pivot table from the DataFrame medals, aggregating by count (by specifying the aggfunc parameter). Use 'Edition' as the index, 'Athlete' for the values, and 'NOC' for the columns.\n",
    "- Print the first & last 5 rows of medal_counts.\n",
    "\n",
    "--------------------------------------------------------"
   ]
  },
  {
   "cell_type": "code",
   "execution_count": null,
   "metadata": {
    "colab": {},
    "colab_type": "code",
    "id": "zmHw00thJ_-p"
   },
   "outputs": [],
   "source": [
    "# Construct the pivot_table: medal_counts\n",
    "medal_counts = ____\n",
    "\n",
    "# Print the first & last 5 rows of medal_counts\n",
    "\n"
   ]
  },
  {
   "cell_type": "markdown",
   "metadata": {
    "colab_type": "text",
    "id": "fVLC3sBkKE1M"
   },
   "source": [
    "## Computing fraction of medals per Olympic edition\n",
    "\n",
    "In this exercise, you'll start with the DataFrames editions, medals, & medal_counts from prior exercises.\n",
    "\n",
    "You can extract a Series with the total number of medals awarded in each Olympic edition.\n",
    "\n",
    "The DataFrame medal_counts can be divided row-wise by the total number of medals awarded each edition; the method .divide() performs the broadcast as you require.\n",
    "\n",
    "This gives you a normalized indication of each country's performance in each edition.\n",
    "\n",
    "------------------------------------------------\n",
    "- Set the index of the DataFrame editions to be 'Edition' (using the method .set_index()). Save the result as totals.\n",
    "- Extract the 'Grand Total' column from totals and assign the result back to totals.\n",
    "- Divide the DataFrame medal_counts by totals along each row. You will have to use the .divide() method with the option axis='rows'. Assign the result to fractions.\n",
    "- Print first & last 5 rows of the DataFrame fractions.\n",
    "\n",
    "----------------------------------------------------"
   ]
  },
  {
   "cell_type": "code",
   "execution_count": null,
   "metadata": {
    "colab": {},
    "colab_type": "code",
    "id": "6GBO9DrmKDQH"
   },
   "outputs": [],
   "source": [
    "# Set Index of editions: totals\n",
    "totals = ____\n",
    "\n",
    "# Reassign totals['Grand Total']: totals\n",
    "totals = ____\n",
    "\n",
    "# Divide medal_counts by totals: fractions\n",
    "fractions = ____\n",
    "\n",
    "# Print first & last 5 rows of fractions\n",
    "\n"
   ]
  },
  {
   "cell_type": "markdown",
   "metadata": {
    "colab_type": "text",
    "id": "92s-7X3FKIP-"
   },
   "source": [
    "## Computing percentage change in fraction of medals won\n",
    "\n",
    "Here, you'll start with the DataFrames editions, medals, medal_counts, & fractions from prior exercises.\n",
    "\n",
    "To see if there is a host country advantage, you first want to see how the fraction of medals won changes from edition to edition.\n",
    "\n",
    "The expanding mean provides a way to see this down each column. It is the value of the mean with all the data available up to that point in time. If you are interested in learning more about pandas' expanding transformations, this section of the pandas documentation has additional information.\n",
    "\n",
    "---------------------------------------------------------\n",
    "- Create mean_fractions by chaining the methods .expanding().mean() to fractions.\n",
    "- Compute the percentage change in mean_fractions down each column by applying .pct_change() and multiplying by 100. Assign the result to fractions_change.\n",
    "- Reset the index of fractions_change using the .reset_index() method. This will make 'Edition' an ordinary column.\n",
    "- Print the first and last 5 rows of the DataFrame fractions_change.\n",
    "\n",
    "----------------------------------"
   ]
  },
  {
   "cell_type": "code",
   "execution_count": null,
   "metadata": {
    "colab": {},
    "colab_type": "code",
    "id": "9t7-m6rhKHZT"
   },
   "outputs": [],
   "source": [
    "# Apply the expanding mean: mean_fractions\n",
    "mean_fractions = ____\n",
    "\n",
    "# Compute the percentage change: fractions_change\n",
    "fractions_change = ____\n",
    "\n",
    "# Reset the index of fractions_change: fractions_change\n",
    "fractions_change = ____\n",
    "\n",
    "# Print first & last 5 rows of fractions_change\n",
    "\n"
   ]
  },
  {
   "cell_type": "markdown",
   "metadata": {
    "colab_type": "text",
    "id": "OLS-VP5gKQlk"
   },
   "source": [
    "## Building hosts DataFrame\n",
    "\n",
    "Your task here is to prepare a DataFrame hosts by left joining editions and ioc_codes.\n",
    "\n",
    "Once created, you will subset the Edition and NOC columns and set Edition as the Index.\n",
    "\n",
    "There are some missing NOC values; you will set those explicitly.\n",
    "\n",
    "Finally, you'll reset the Index & print the final DataFrame.\n",
    "\n",
    "-----------------------------------------------\n",
    "- Create the DataFrame hosts by doing a left join on DataFrames editions and ioc_codes (using pd.merge()).\n",
    "- Clean up hosts by subsetting and setting the Index.\n",
    "  - Extract the columns 'Edition' and 'NOC'.\n",
    "  - Set 'Edition' column as the Index.\n",
    "- Use the .loc[] accessor to find and assign the missing values to the 'NOC' column in hosts. This has been done for you.\n",
    "- Reset the index of hosts using .reset_index(), which you'll need to save as the hosts DataFrame.\n",
    "-----------------------------------"
   ]
  },
  {
   "cell_type": "code",
   "execution_count": null,
   "metadata": {
    "colab": {},
    "colab_type": "code",
    "id": "zvBX7YUTKPHX"
   },
   "outputs": [],
   "source": [
    "# Left join editions and ioc_codes: hosts\n",
    "hosts = ____\n",
    "\n",
    "# Extract relevant columns and set index: hosts\n",
    "hosts = ____\n",
    "\n",
    "# Fix missing 'NOC' values of hosts\n",
    "print(hosts.loc[hosts.NOC.isnull()])\n",
    "hosts.loc[1972, 'NOC'] = 'FRG'\n",
    "hosts.loc[1980, 'NOC'] = 'URS'\n",
    "hosts.loc[1988, 'NOC'] = 'KOR'\n",
    "\n",
    "# Reset Index of hosts: hosts\n",
    "hosts = ____\n",
    "\n",
    "# Print hosts\n",
    "print(hosts)"
   ]
  },
  {
   "cell_type": "markdown",
   "metadata": {
    "colab_type": "text",
    "id": "Gx5X8p9-KUcX"
   },
   "source": [
    "## Reshaping for analysis\n",
    "\n",
    "This exercise starts off with fractions_change and hosts already loaded.\n",
    "\n",
    "Your task here is to reshape the fractions_change DataFrame for later analysis.\n",
    "\n",
    "Initially, fractions_change is a wide DataFrame of 26 rows (one for each Olympic edition) and 139 columns (one for the edition and 138 for the competing countries).\n",
    "\n",
    "On reshaping with pd.melt(), as you will see, the result is a tall DataFrame with 3588 rows and 3 columns that summarizes the fractional change in the expanding mean of the percentage of medals won for each country in blocks.\n",
    "\n",
    "-------------------------------------------\n",
    "- Create a DataFrame reshaped by reshaping the DataFrame fractions_change with pd.melt().\n",
    "- You'll need to use the keyword argument id_vars='Edition' to set the identifier variable.\n",
    "- You'll also need to use the keyword argument value_name='Change' to set the measured variables.\n",
    "- Print the shape of the DataFrames reshaped and fractions_change. This has been done for you.\n",
    "- Create a DataFrame chn by extracting all the rows from reshaped in which the three letter code for each country ('NOC') is 'CHN'.\n",
    "- Print the last 5 rows of the DataFrame chn using the .tail() method.\n",
    "---------------------------------"
   ]
  },
  {
   "cell_type": "code",
   "execution_count": null,
   "metadata": {
    "colab": {},
    "colab_type": "code",
    "id": "WsqYjdLJKS5H"
   },
   "outputs": [],
   "source": [
    "# Reshape fractions_change: reshaped\n",
    "reshaped = ____\n",
    "\n",
    "# Print reshaped.shape and fractions_change.shape\n",
    "print(reshaped.shape, fractions_change.shape)\n",
    "\n",
    "# Extract rows from reshaped where 'NOC' == 'CHN': chn\n",
    "chn = ____\n",
    "\n",
    "# Print last 5 rows of chn with .tail()\n",
    "print(chn.tail())"
   ]
  },
  {
   "cell_type": "markdown",
   "metadata": {
    "colab_type": "text",
    "id": "qOoFXwXaKYS1"
   },
   "source": [
    "## Merging to compute influence\n",
    "\n",
    "This exercise starts off with the DataFrames reshaped and hosts in the namespace.\n",
    "\n",
    "Your task is to merge the two DataFrames and tidy the result.\n",
    "\n",
    "The end result is a DataFrame summarizing the fractional change in the expanding mean of the percentage of medals won for the host country in each Olympic edition.\n",
    "\n",
    "-------------------------------------------\n",
    "- Merge reshaped and hosts using an inner join. Remember, how='inner' is the default behavior for pd.merge().\n",
    "- Print the first 5 rows of the DataFrame merged. This has been done for you. You should see that the rows are jumbled chronologically.\n",
    "- Set the index of merged to be 'Edition' and sort the index.\n",
    "- Print the first 5 rows of the DataFrame influence. \n",
    "---------------------------------------------------"
   ]
  },
  {
   "cell_type": "code",
   "execution_count": null,
   "metadata": {
    "colab": {},
    "colab_type": "code",
    "id": "yDp4o-4vKXEr"
   },
   "outputs": [],
   "source": [
    "# Merge reshaped and hosts: merged\n",
    "merged = ____\n",
    "\n",
    "# Print first 5 rows of merged\n",
    "print(merged.head())\n",
    "\n",
    "# Set Index of merged and sort it: influence\n",
    "influence = ____\n",
    "\n",
    "# Print first 5 rows of influence\n",
    "print(influence.head())"
   ]
  },
  {
   "cell_type": "markdown",
   "metadata": {
    "colab_type": "text",
    "id": "CP7bfw47KdTh"
   },
   "source": [
    "## Plotting influence of host country\n",
    "\n",
    "This final exercise starts off with the DataFrames influence and editions in the namespace. Your job is to plot the influence of being a host country.\n",
    "\n",
    "--------------------------------\n",
    "- Create a Series called change by extracting the 'Change' column from influence.\n",
    "- Create a bar plot of change using the .plot() method with kind='bar'. Save the result as ax to permit further customization.\n",
    "- Reveal the final plot using plt.show().\n",
    "----------------------------------------------------------"
   ]
  },
  {
   "cell_type": "code",
   "execution_count": null,
   "metadata": {
    "colab": {},
    "colab_type": "code",
    "id": "YCByXQvAKbT3"
   },
   "outputs": [],
   "source": [
    "# Import pyplot\n",
    "import matplotlib.pyplot as plt\n",
    "\n",
    "# Extract influence['Change']: change\n",
    "change = ____\n",
    "\n",
    "# Make bar plot of change: ax\n",
    "ax = ____\n",
    "\n",
    "# Customize the plot to improve readability\n",
    "ax.set_ylabel(\"% Change of Host Country Medal Count\")\n",
    "ax.set_title(\"Is there a Host Country Advantage?\")\n",
    "ax.set_xticklabels(editions['City'])\n",
    "\n",
    "# Display the plot\n",
    "____"
   ]
  }
 ],
 "metadata": {
  "colab": {
   "authorship_tag": "ABX9TyNRUMghT4gBx3Cx5/WWbu8L",
   "name": "SummerOlympics.ipynb",
   "provenance": []
  },
  "kernelspec": {
   "display_name": "Python 3",
   "language": "python",
   "name": "python3"
  },
  "language_info": {
   "codemirror_mode": {
    "name": "ipython",
    "version": 3
   },
   "file_extension": ".py",
   "mimetype": "text/x-python",
   "name": "python",
   "nbconvert_exporter": "python",
   "pygments_lexer": "ipython3",
   "version": "3.8.5"
  }
 },
 "nbformat": 4,
 "nbformat_minor": 1
}
